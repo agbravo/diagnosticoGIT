{
 "cells": [
  {
   "cell_type": "code",
   "execution_count": 1,
   "id": "d076ecf5",
   "metadata": {},
   "outputs": [
    {
     "ename": "ModuleNotFoundError",
     "evalue": "No module named 'top10retweeted'",
     "output_type": "error",
     "traceback": [
      "\u001b[0;31m---------------------------------------------------------------------------\u001b[0m",
      "\u001b[0;31mModuleNotFoundError\u001b[0m                       Traceback (most recent call last)",
      "Input \u001b[0;32mIn [1]\u001b[0m, in \u001b[0;36m<cell line: 1>\u001b[0;34m()\u001b[0m\n\u001b[0;32m----> 1\u001b[0m \u001b[38;5;28;01mfrom\u001b[39;00m \u001b[38;5;21;01mtop10retweeted\u001b[39;00m \u001b[38;5;28;01mimport\u001b[39;00m top10tweets\n\u001b[1;32m      2\u001b[0m \u001b[38;5;28;01mimport\u001b[39;00m \u001b[38;5;21;01mtop10users\u001b[39;00m\n\u001b[1;32m      3\u001b[0m \u001b[38;5;28;01mimport\u001b[39;00m \u001b[38;5;21;01mtop10days\u001b[39;00m\n",
      "\u001b[0;31mModuleNotFoundError\u001b[0m: No module named 'top10retweeted'"
     ]
    }
   ],
   "source": [
    "from top10retweeted import top10tweets\n",
    "import top10users\n",
    "import top10days\n",
    "import top10hashtags"
   ]
  },
  {
   "cell_type": "code",
   "execution_count": null,
   "id": "26037fb2",
   "metadata": {},
   "outputs": [],
   "source": [
    "data=json.load(\"farmers-protest-tweets-2021-03-5.json\")"
   ]
  },
  {
   "cell_type": "code",
   "execution_count": null,
   "id": "d7eea9f9",
   "metadata": {},
   "outputs": [],
   "source": [
    "top10tweets(data)"
   ]
  }
 ],
 "metadata": {
  "kernelspec": {
   "display_name": "Python 3 (ipykernel)",
   "language": "python",
   "name": "python3"
  },
  "language_info": {
   "codemirror_mode": {
    "name": "ipython",
    "version": 3
   },
   "file_extension": ".py",
   "mimetype": "text/x-python",
   "name": "python",
   "nbconvert_exporter": "python",
   "pygments_lexer": "ipython3",
   "version": "3.9.2"
  }
 },
 "nbformat": 4,
 "nbformat_minor": 5
}
