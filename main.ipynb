{
 "cells": [
  {
   "cell_type": "code",
   "execution_count": 13,
   "id": "d076ecf5",
   "metadata": {},
   "outputs": [],
   "source": [
    "import import_ipynb\n",
    "import json\n",
    "from top10retweeted import top10tweets\n",
    "import top10users\n",
    "import top10days\n",
    "import top10hashtags"
   ]
  },
  {
   "cell_type": "code",
   "execution_count": null,
   "id": "26037fb2",
   "metadata": {},
   "outputs": [],
   "source": [
    "data = []\n",
    "file=open(\"farmers-protest-tweets-2021-03-5.json\")\n",
    "for element in file:\n",
    "    data.append(json.loads(element))\n",
    "#data=json.load(file)\n",
    "#print(data)"
   ]
  },
  {
   "cell_type": "code",
   "execution_count": 15,
   "id": "d7eea9f9",
   "metadata": {},
   "outputs": [
    {
     "ename": "AttributeError",
     "evalue": "'list' object has no attribute 'sort_values'",
     "output_type": "error",
     "traceback": [
      "\u001b[0;31m---------------------------------------------------------------------------\u001b[0m",
      "\u001b[0;31mAttributeError\u001b[0m                            Traceback (most recent call last)",
      "Input \u001b[0;32mIn [15]\u001b[0m, in \u001b[0;36m<cell line: 1>\u001b[0;34m()\u001b[0m\n\u001b[0;32m----> 1\u001b[0m \u001b[43mtop10tweets\u001b[49m\u001b[43m(\u001b[49m\u001b[43mdata\u001b[49m\u001b[43m)\u001b[49m\n",
      "File \u001b[0;32m<string>:2\u001b[0m, in \u001b[0;36mtop10tweets\u001b[0;34m(data)\u001b[0m\n",
      "\u001b[0;31mAttributeError\u001b[0m: 'list' object has no attribute 'sort_values'"
     ]
    }
   ],
   "source": [
    "top10tweets(data)"
   ]
  },
  {
   "cell_type": "code",
   "execution_count": null,
   "id": "3b64762f",
   "metadata": {},
   "outputs": [],
   "source": []
  }
 ],
 "metadata": {
  "kernelspec": {
   "display_name": "Python 3 (ipykernel)",
   "language": "python",
   "name": "python3"
  },
  "language_info": {
   "codemirror_mode": {
    "name": "ipython",
    "version": 3
   },
   "file_extension": ".py",
   "mimetype": "text/x-python",
   "name": "python",
   "nbconvert_exporter": "python",
   "pygments_lexer": "ipython3",
   "version": "3.9.2"
  }
 },
 "nbformat": 4,
 "nbformat_minor": 5
}
